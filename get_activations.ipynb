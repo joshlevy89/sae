{
 "cells": [
  {
   "cell_type": "code",
   "execution_count": 1,
   "id": "f1d67562-119f-4865-9b67-c24d4f35d129",
   "metadata": {},
   "outputs": [],
   "source": [
    "import torch\n",
    "from tqdm import tqdm"
   ]
  },
  {
   "cell_type": "code",
   "execution_count": 2,
   "id": "1ed3dded-cd35-4d3e-9d0f-925450978606",
   "metadata": {},
   "outputs": [],
   "source": [
    "# get the data\n",
    "from datasets import load_dataset\n",
    "data = load_dataset('ola13/small-the_pile-dedup')"
   ]
  },
  {
   "cell_type": "code",
   "execution_count": 3,
   "id": "e5676fa1-0c71-44a0-b281-3c97832b2f28",
   "metadata": {},
   "outputs": [
    {
     "data": {
      "text/plain": [
       "100000"
      ]
     },
     "execution_count": 3,
     "metadata": {},
     "output_type": "execute_result"
    }
   ],
   "source": [
    "len(data['train']['text'])"
   ]
  },
  {
   "cell_type": "code",
   "execution_count": 4,
   "id": "af31663b-d02c-4be4-9696-7d98d115ab59",
   "metadata": {},
   "outputs": [
    {
     "name": "stderr",
     "output_type": "stream",
     "text": [
      "/opt/conda/lib/python3.10/site-packages/transformers/utils/hub.py:124: FutureWarning: Using `TRANSFORMERS_CACHE` is deprecated and will be removed in v5 of Transformers. Use `HF_HOME` instead.\n",
      "  warnings.warn(\n",
      "/opt/conda/lib/python3.10/site-packages/transformers/modeling_utils.py:4225: FutureWarning: `_is_quantized_training_enabled` is going to be deprecated in transformers 4.39.0. Please use `model.hf_quantizer.is_trainable` instead\n",
      "  warnings.warn(\n"
     ]
    }
   ],
   "source": [
    "import os\n",
    "os.environ['TRANSFORMERS_CACHE'] = '/workspace/cache/' # change or comment out as desired \n",
    "from transformers import AutoModelForCausalLM, AutoTokenizer\n",
    "\n",
    "def load_model(model_name_or_path, revision, device):\n",
    "    model = AutoModelForCausalLM.from_pretrained(\n",
    "        model_name_or_path, device_map=device, revision=revision, trust_remote_code=False)\n",
    "    tokenizer = AutoTokenizer.from_pretrained(model_name_or_path, use_fast=True, padding_side=\"right\") # PADDING RIGHT!\n",
    "    tokenizer.pad_token_id = 0\n",
    "    return model, tokenizer\n",
    "\n",
    "device = 'cuda:0'\n",
    "model_name_or_path = \"TheBloke/Mistral-7B-v0.1-GPTQ\"\n",
    "# model_name_or_path = 'TheBloke/Mistral-7B-Instruct-v0.1-GPTQ'\n",
    "revision = 'gptq-4bit-32g-actorder_True'\n",
    "\n",
    "model, tokenizer = load_model(model_name_or_path, revision, device)"
   ]
  },
  {
   "cell_type": "code",
   "execution_count": 28,
   "id": "56b4746a-04d7-4dae-82a9-32530eb5a886",
   "metadata": {},
   "outputs": [
    {
     "name": "stderr",
     "output_type": "stream",
     "text": [
      "Special tokens have been added in the vocabulary, make sure the associated word embeddings are fine-tuned or trained.\n"
     ]
    }
   ],
   "source": [
    "# from transformers import GPTNeoXForCausalLM, AutoTokenizer\n",
    "\n",
    "# model = GPTNeoXForCausalLM.from_pretrained(\"EleutherAI/pythia-70m-deduped\").to(device)\n",
    "\n",
    "# tokenizer = AutoTokenizer.from_pretrained(\"EleutherAI/pythia-70m-deduped\")\n",
    "# tokenizer.pad_token_id = 0"
   ]
  },
  {
   "cell_type": "code",
   "execution_count": 5,
   "id": "23b8d10c-81ca-4f8d-8289-29cf95e2f497",
   "metadata": {},
   "outputs": [
    {
     "name": "stderr",
     "output_type": "stream",
     "text": [
      "100%|██████████| 64/64 [01:44<00:00,  1.63s/it]\n"
     ]
    }
   ],
   "source": [
    "bs = 16\n",
    "layer = 12\n",
    "context_len = 128\n",
    "all_acts = []\n",
    "for i in tqdm(range(0, 1024, bs)):\n",
    "    text = data['train']['text'][:bs]\n",
    "    inputs = tokenizer(text, return_tensors=\"pt\", padding=True).to(device)\n",
    "    inputs_mod = {'input_ids': inputs['input_ids'][:, :context_len], 'attention_mask': inputs['attention_mask'][:, :context_len]}\n",
    "    output = model(**inputs_mod, output_hidden_states=True)\n",
    "    batch_acts = output['hidden_states'][layer+1].detach()\n",
    "    batch_acts_trunc = []\n",
    "    for i in range(len(batch_acts)):\n",
    "        acts = batch_acts[i]\n",
    "        mask = inputs_mod['attention_mask'][i]\n",
    "        last1 = (mask == 1).nonzero().max().item()\n",
    "        trunc_acts = acts[:last1+1, :]\n",
    "        batch_acts_trunc.append(trunc_acts)\n",
    "    all_acts.extend(batch_acts_trunc)\n",
    "all_acts = torch.cat(all_acts)"
   ]
  },
  {
   "cell_type": "code",
   "execution_count": 6,
   "id": "03ca7cc0-9eaf-409f-82a2-d3a60761780c",
   "metadata": {},
   "outputs": [
    {
     "data": {
      "text/plain": [
       "torch.Size([124928, 4096])"
      ]
     },
     "execution_count": 6,
     "metadata": {},
     "output_type": "execute_result"
    }
   ],
   "source": [
    "all_acts.shape"
   ]
  },
  {
   "cell_type": "code",
   "execution_count": 7,
   "id": "35954a9d-a951-44d4-8a25-3039467375d5",
   "metadata": {},
   "outputs": [],
   "source": [
    "torch.save(all_acts, './acts/batch.pt')"
   ]
  },
  {
   "cell_type": "code",
   "execution_count": 8,
   "id": "59b99056-5ced-4249-bf32-dab0f43f1448",
   "metadata": {},
   "outputs": [
    {
     "data": {
      "text/plain": [
       "131072"
      ]
     },
     "execution_count": 8,
     "metadata": {},
     "output_type": "execute_result"
    }
   ],
   "source": [
    "128*1024"
   ]
  },
  {
   "cell_type": "code",
   "execution_count": 9,
   "id": "0f748971-32ad-4f8c-a52d-216f5991cba6",
   "metadata": {},
   "outputs": [
    {
     "data": {
      "text/plain": [
       "tensor([[-0.1282, -0.2644, -0.1174,  ...,  0.0014,  0.0388, -0.0694],\n",
       "        [ 0.0552,  0.0592,  0.0342,  ...,  0.0229, -0.0098,  0.0276],\n",
       "        [ 0.0381, -0.0181,  0.0177,  ...,  0.0038,  0.0770,  0.0256],\n",
       "        ...,\n",
       "        [ 0.0000, -0.0522, -0.0371,  ..., -0.0695, -0.0317, -0.0046],\n",
       "        [ 0.0526, -0.0416, -0.0486,  ..., -0.0297, -0.0438, -0.0024],\n",
       "        [ 0.0080,  0.0275, -0.0435,  ..., -0.0300, -0.0602,  0.0519]],\n",
       "       device='cuda:0', dtype=torch.float16)"
      ]
     },
     "execution_count": 9,
     "metadata": {},
     "output_type": "execute_result"
    }
   ],
   "source": [
    "all_acts"
   ]
  },
  {
   "cell_type": "code",
   "execution_count": null,
   "id": "074e70f8-f9bd-452d-9668-89db1fec5355",
   "metadata": {},
   "outputs": [],
   "source": []
  }
 ],
 "metadata": {
  "kernelspec": {
   "display_name": "Python 3 (ipykernel)",
   "language": "python",
   "name": "python3"
  },
  "language_info": {
   "codemirror_mode": {
    "name": "ipython",
    "version": 3
   },
   "file_extension": ".py",
   "mimetype": "text/x-python",
   "name": "python",
   "nbconvert_exporter": "python",
   "pygments_lexer": "ipython3",
   "version": "3.10.13"
  }
 },
 "nbformat": 4,
 "nbformat_minor": 5
}
